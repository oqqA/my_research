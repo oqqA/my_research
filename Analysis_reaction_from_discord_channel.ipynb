{
 "cells": [
  {
   "cell_type": "code",
   "execution_count": 1,
   "metadata": {},
   "outputs": [],
   "source": [
    "import json\r\n",
    "import pandas as pd\r\n",
    "import numpy as np"
   ]
  },
  {
   "cell_type": "code",
   "execution_count": 2,
   "metadata": {},
   "outputs": [],
   "source": [
    "json_data = json.load(open('./data/analysis_reaction.json'))"
   ]
  },
  {
   "cell_type": "code",
   "execution_count": 3,
   "metadata": {},
   "outputs": [
    {
     "name": "stdout",
     "output_type": "stream",
     "text": [
      "{\n",
      "    \"id\": \"846372277712191538\",\n",
      "    \"content\": \"https://steamcommunity.com/sharedfiles/filedetails/?id=2495737205\",\n",
      "    \"author\": {\n",
      "        \"id\": \"211209226230431744\",\n",
      "        \"username\": \"Phil\",\n",
      "        \"discriminator\": \"9105\",\n",
      "        \"public_flags\": 128\n",
      "    },\n",
      "    \"attachments\": [\n",
      "        {\n",
      "            \"id\": \"846372277830156308\",\n",
      "            \"filename\": \"unknown.png\",\n",
      "            \"size\": 287362,\n",
      "            \"content_type\": \"image/png\"\n",
      "        }\n",
      "    ],\n",
      "    \"embeds\": [\n",
      "        {\n",
      "            \"type\": \"article\",\n",
      "            \"url\": \"https://steamcommunity.com/sharedfiles/filedetails/?id=2495737205\",\n",
      "            \"title\": \"Steam Workshop::Alpi Frog\"\n",
      "        }\n",
      "    ],\n",
      "    \"mentions\": [],\n",
      "    \"edited_timestamp\": null,\n",
      "    \"flags\": 0,\n",
      "    \"reactions\": null\n",
      "}\n"
     ]
    }
   ],
   "source": [
    "print(json.dumps(json_data[0], indent=4))"
   ]
  },
  {
   "cell_type": "code",
   "execution_count": 37,
   "metadata": {},
   "outputs": [],
   "source": [
    "df1 = pd.json_normalize(\r\n",
    "    json_data, \r\n",
    "    record_path=['reactions'],\r\n",
    "    meta=['id', 'content', ['author', 'id']]\r\n",
    ")\r\n",
    "\r\n",
    "df2 = pd.json_normalize(\r\n",
    "    json_data, \r\n",
    "    record_path=['attachments'],\r\n",
    "    record_prefix='attachments.',\r\n",
    "    meta=['id'],\r\n",
    ")\r\n",
    "\r\n",
    "df = pd.merge(df1, df2, on=['id'])"
   ]
  },
  {
   "cell_type": "code",
   "execution_count": 5,
   "metadata": {},
   "outputs": [],
   "source": [
    "df = pd.json_normalize(\r\n",
    "    json_data, \r\n",
    "    record_path=['reactions'],\r\n",
    "    meta=['id', 'content', ['author', 'id'],['attachments']]\r\n",
    ")\r\n",
    "\r\n",
    "#df = pd.merge(df2, df1, on=['id'])"
   ]
  },
  {
   "cell_type": "code",
   "execution_count": 16,
   "metadata": {},
   "outputs": [
    {
     "data": {
      "text/plain": "Index(['count', 'emoji.id', 'emoji.name', 'id', 'content', 'author.id',\n       'attachments.id', 'attachments.filename', 'attachments.size',\n       'attachments.content_type'],\n      dtype='object')"
     },
     "execution_count": 16,
     "metadata": {},
     "output_type": "execute_result"
    }
   ],
   "source": [
    "df.columns"
   ]
  },
  {
   "cell_type": "code",
   "execution_count": 17,
   "metadata": {},
   "outputs": [
    {
     "data": {
      "text/html": "<div>\n<style scoped>\n    .dataframe tbody tr th:only-of-type {\n        vertical-align: middle;\n    }\n\n    .dataframe tbody tr th {\n        vertical-align: top;\n    }\n\n    .dataframe thead th {\n        text-align: right;\n    }\n</style>\n<table border=\"1\" class=\"dataframe\">\n  <thead>\n    <tr style=\"text-align: right;\">\n      <th></th>\n      <th>count</th>\n      <th>emoji.id</th>\n      <th>emoji.name</th>\n      <th>id</th>\n      <th>content</th>\n      <th>author.id</th>\n      <th>attachments.id</th>\n      <th>attachments.filename</th>\n      <th>attachments.size</th>\n      <th>attachments.content_type</th>\n    </tr>\n  </thead>\n  <tbody>\n    <tr>\n      <th>0</th>\n      <td>12</td>\n      <td>None</td>\n      <td>🟥</td>\n      <td>846368511756599327</td>\n      <td></td>\n      <td>433409140606369822</td>\n      <td>846368509864706078</td>\n      <td>20210524144336_1.jpg</td>\n      <td>273815</td>\n      <td>image/jpeg</td>\n    </tr>\n    <tr>\n      <th>1</th>\n      <td>4</td>\n      <td>None</td>\n      <td>😄</td>\n      <td>846361933074792479</td>\n      <td>no comment</td>\n      <td>228461639408680960</td>\n      <td>846361930654547989</td>\n      <td>unknown.png</td>\n      <td>150347</td>\n      <td>image/png</td>\n    </tr>\n    <tr>\n      <th>2</th>\n      <td>3</td>\n      <td>None</td>\n      <td>📈</td>\n      <td>846361933074792479</td>\n      <td>no comment</td>\n      <td>228461639408680960</td>\n      <td>846361930654547989</td>\n      <td>unknown.png</td>\n      <td>150347</td>\n      <td>image/png</td>\n    </tr>\n    <tr>\n      <th>3</th>\n      <td>6</td>\n      <td>None</td>\n      <td>👍</td>\n      <td>846359278221918228</td>\n      <td></td>\n      <td>318763925334392842</td>\n      <td>846359274925850644</td>\n      <td>20210524144922_1.jpg</td>\n      <td>109340</td>\n      <td>image/jpeg</td>\n    </tr>\n    <tr>\n      <th>4</th>\n      <td>3</td>\n      <td>None</td>\n      <td>❤️</td>\n      <td>846352601783599125</td>\n      <td>Out on the Workshop, check it out !\\n\\nhttps:/...</td>\n      <td>538013627496792084</td>\n      <td>846352602547093504</td>\n      <td>573090_20210524120949_1.png</td>\n      <td>1185668</td>\n      <td>image/png</td>\n    </tr>\n  </tbody>\n</table>\n</div>",
      "text/plain": "   count emoji.id emoji.name                  id  \\\n0     12     None          🟥  846368511756599327   \n1      4     None          😄  846361933074792479   \n2      3     None          📈  846361933074792479   \n3      6     None          👍  846359278221918228   \n4      3     None         ❤️  846352601783599125   \n\n                                             content           author.id  \\\n0                                                     433409140606369822   \n1                                         no comment  228461639408680960   \n2                                         no comment  228461639408680960   \n3                                                     318763925334392842   \n4  Out on the Workshop, check it out !\\n\\nhttps:/...  538013627496792084   \n\n       attachments.id         attachments.filename  attachments.size  \\\n0  846368509864706078         20210524144336_1.jpg            273815   \n1  846361930654547989                  unknown.png            150347   \n2  846361930654547989                  unknown.png            150347   \n3  846359274925850644         20210524144922_1.jpg            109340   \n4  846352602547093504  573090_20210524120949_1.png           1185668   \n\n  attachments.content_type  \n0               image/jpeg  \n1                image/png  \n2                image/png  \n3               image/jpeg  \n4                image/png  "
     },
     "execution_count": 17,
     "metadata": {},
     "output_type": "execute_result"
    }
   ],
   "source": [
    "df.head(5) #tail"
   ]
  },
  {
   "cell_type": "code",
   "execution_count": 18,
   "metadata": {},
   "outputs": [
    {
     "name": "stdout",
     "output_type": "stream",
     "text": [
      "<class 'pandas.core.frame.DataFrame'>\n",
      "Int64Index: 132579 entries, 0 to 132578\n",
      "Data columns (total 10 columns):\n",
      " #   Column                    Non-Null Count   Dtype \n",
      "---  ------                    --------------   ----- \n",
      " 0   count                     132579 non-null  int64 \n",
      " 1   emoji.id                  10533 non-null   object\n",
      " 2   emoji.name                132579 non-null  object\n",
      " 3   id                        132579 non-null  object\n",
      " 4   content                   132579 non-null  object\n",
      " 5   author.id                 132579 non-null  object\n",
      " 6   attachments.id            132579 non-null  object\n",
      " 7   attachments.filename      132579 non-null  object\n",
      " 8   attachments.size          132579 non-null  int64 \n",
      " 9   attachments.content_type  24058 non-null   object\n",
      "dtypes: int64(2), object(8)\n",
      "memory usage: 11.1+ MB\n"
     ]
    }
   ],
   "source": [
    "df.info()"
   ]
  },
  {
   "cell_type": "code",
   "execution_count": 19,
   "metadata": {},
   "outputs": [
    {
     "data": {
      "text/html": "<div>\n<style scoped>\n    .dataframe tbody tr th:only-of-type {\n        vertical-align: middle;\n    }\n\n    .dataframe tbody tr th {\n        vertical-align: top;\n    }\n\n    .dataframe thead th {\n        text-align: right;\n    }\n</style>\n<table border=\"1\" class=\"dataframe\">\n  <thead>\n    <tr style=\"text-align: right;\">\n      <th></th>\n      <th>count</th>\n      <th>attachments.size</th>\n    </tr>\n  </thead>\n  <tbody>\n    <tr>\n      <th>count</th>\n      <td>132579.000000</td>\n      <td>1.325790e+05</td>\n    </tr>\n    <tr>\n      <th>mean</th>\n      <td>6.394135</td>\n      <td>1.737921e+06</td>\n    </tr>\n    <tr>\n      <th>std</th>\n      <td>6.303088</td>\n      <td>5.168430e+06</td>\n    </tr>\n    <tr>\n      <th>min</th>\n      <td>1.000000</td>\n      <td>6.800000e+01</td>\n    </tr>\n    <tr>\n      <th>25%</th>\n      <td>2.000000</td>\n      <td>1.769515e+05</td>\n    </tr>\n    <tr>\n      <th>50%</th>\n      <td>5.000000</td>\n      <td>5.796300e+05</td>\n    </tr>\n    <tr>\n      <th>75%</th>\n      <td>8.000000</td>\n      <td>1.453524e+06</td>\n    </tr>\n    <tr>\n      <th>max</th>\n      <td>140.000000</td>\n      <td>1.018831e+08</td>\n    </tr>\n  </tbody>\n</table>\n</div>",
      "text/plain": "               count  attachments.size\ncount  132579.000000      1.325790e+05\nmean        6.394135      1.737921e+06\nstd         6.303088      5.168430e+06\nmin         1.000000      6.800000e+01\n25%         2.000000      1.769515e+05\n50%         5.000000      5.796300e+05\n75%         8.000000      1.453524e+06\nmax       140.000000      1.018831e+08"
     },
     "execution_count": 19,
     "metadata": {},
     "output_type": "execute_result"
    }
   ],
   "source": [
    "df.describe()"
   ]
  },
  {
   "cell_type": "code",
   "execution_count": 20,
   "metadata": {},
   "outputs": [
    {
     "data": {
      "text/plain": "count                       0.000000\nemoji.id                    0.920553\nemoji.name                  0.000000\nid                          0.000000\ncontent                     0.000000\nauthor.id                   0.000000\nattachments.id              0.000000\nattachments.filename        0.000000\nattachments.size            0.000000\nattachments.content_type    0.818538\ndtype: float64"
     },
     "execution_count": 20,
     "metadata": {},
     "output_type": "execute_result"
    }
   ],
   "source": [
    "df.isna().sum() / df.shape[0]"
   ]
  },
  {
   "cell_type": "code",
   "execution_count": 21,
   "metadata": {},
   "outputs": [
    {
     "data": {
      "text/plain": "👍        24263\n🇪         4406\n🇴         4359\nthonk     4310\n👌         3983\n         ...  \n😸            1\n🗄️           1\n🇬🇳           1\n👩‍🦲          1\n🚟            1\nName: emoji.name, Length: 1422, dtype: int64"
     },
     "execution_count": 21,
     "metadata": {},
     "output_type": "execute_result"
    }
   ],
   "source": [
    "df['emoji.name'].value_counts()"
   ]
  },
  {
   "cell_type": "code",
   "execution_count": 38,
   "metadata": {},
   "outputs": [
    {
     "data": {
      "text/plain": "<AxesSubplot:ylabel='Frequency'>"
     },
     "execution_count": 38,
     "metadata": {},
     "output_type": "execute_result"
    },
    {
     "data": {
      "image/png": "[encoded data removed]",
      "text/plain": "<Figure size 432x288 with 1 Axes>"
     },
     "metadata": {
      "needs_background": "light"
     },
     "output_type": "display_data"
    }
   ],
   "source": [
    "df = df.loc[df['count']>10]\r\n",
    "df.loc[(df['count']>10) & (df['count']<40)]['count'].plot.hist(bins=29)"
   ]
  },
  {
   "cell_type": "code",
   "execution_count": 46,
   "metadata": {},
   "outputs": [
    {
     "data": {
      "text/plain": "{'👍': 5361,\n 'thonk': 732,\n '👌': 709,\n '❤️': 347,\n '💯': 175,\n '🆒': 144,\n '🔥': 131,\n '😂': 116,\n '😮': 97,\n '🤣': 87,\n '🤯': 69,\n 'doge': 54,\n '😱': 45,\n '💥': 44,\n '👍🏻': 35,\n '🤩': 23,\n '🧠': 20,\n '💕': 10}"
     },
     "execution_count": 46,
     "metadata": {},
     "output_type": "execute_result"
    }
   ],
   "source": [
    "mask = (\r\n",
    "    (df['count']>10) &\r\n",
    "    (df['emoji.name'].isin(['👍','👍🏻','👌','💕','❤️','👀''😍','🤩','🤣','😂','😱','🤯','😮','🧠','💯','🆒','💥','🔥','thonk','doge']))\r\n",
    ")\r\n",
    "df1 = df.loc[mask]\r\n",
    "dict(df1['emoji.name'].value_counts())"
   ]
  },
  {
   "cell_type": "code",
   "execution_count": 55,
   "metadata": {},
   "outputs": [
    {
     "data": {
      "text/html": "<div>\n<style scoped>\n    .dataframe tbody tr th:only-of-type {\n        vertical-align: middle;\n    }\n\n    .dataframe tbody tr th {\n        vertical-align: top;\n    }\n\n    .dataframe thead th {\n        text-align: right;\n    }\n</style>\n<table border=\"1\" class=\"dataframe\">\n  <thead>\n    <tr style=\"text-align: right;\">\n      <th></th>\n      <th>count</th>\n      <th>emoji.id</th>\n      <th>emoji.name</th>\n      <th>id</th>\n      <th>content</th>\n      <th>author.id</th>\n      <th>attachments.id</th>\n      <th>attachments.filename</th>\n      <th>attachments.size</th>\n      <th>attachments.content_type</th>\n    </tr>\n  </thead>\n  <tbody>\n    <tr>\n      <th>12</th>\n      <td>11</td>\n      <td>None</td>\n      <td>👍</td>\n      <td>846322726573572136</td>\n      <td></td>\n      <td>417710214897205249</td>\n      <td>846322723780034580</td>\n      <td>20210524114334_1.jpg</td>\n      <td>138329</td>\n      <td>image/jpeg</td>\n    </tr>\n    <tr>\n      <th>63</th>\n      <td>23</td>\n      <td>None</td>\n      <td>👍</td>\n      <td>846138766706999306</td>\n      <td>had to build a new flight system, but it's sig...</td>\n      <td>204819021290405898</td>\n      <td>846138764526485565</td>\n      <td>20210523124240_1.jpg</td>\n      <td>242325</td>\n      <td>image/jpeg</td>\n    </tr>\n    <tr>\n      <th>77</th>\n      <td>42</td>\n      <td>None</td>\n      <td>❤️</td>\n      <td>846132354225012756</td>\n      <td>🤩</td>\n      <td>265575561617735683</td>\n      <td>846132352098107473</td>\n      <td>unknown.png</td>\n      <td>1482779</td>\n      <td>image/png</td>\n    </tr>\n    <tr>\n      <th>97</th>\n      <td>12</td>\n      <td>None</td>\n      <td>😱</td>\n      <td>846116868174643221</td>\n      <td>Man steals helicopter from local helicopter en...</td>\n      <td>290554978807054366</td>\n      <td>846116865846673428</td>\n      <td>unknown.png</td>\n      <td>2032048</td>\n      <td>image/png</td>\n    </tr>\n    <tr>\n      <th>111</th>\n      <td>11</td>\n      <td>None</td>\n      <td>👍</td>\n      <td>846103113152987196</td>\n      <td>by &lt;@!509695438535000076&gt;</td>\n      <td>413283162400227330</td>\n      <td>846103111030276116</td>\n      <td>ivN56AuK6j4.png</td>\n      <td>1142091</td>\n      <td>image/png</td>\n    </tr>\n    <tr>\n      <th>...</th>\n      <td>...</td>\n      <td>...</td>\n      <td>...</td>\n      <td>...</td>\n      <td>...</td>\n      <td>...</td>\n      <td>...</td>\n      <td>...</td>\n      <td>...</td>\n      <td>...</td>\n    </tr>\n    <tr>\n      <th>132533</th>\n      <td>15</td>\n      <td>None</td>\n      <td>😂</td>\n      <td>648111187510165505</td>\n      <td></td>\n      <td>273001032982724608</td>\n      <td>648111181273235466</td>\n      <td>Base_Profile_Screenshot_2019.11.24_-_13.40.27....</td>\n      <td>1267161</td>\n      <td>None</td>\n    </tr>\n    <tr>\n      <th>132564</th>\n      <td>14</td>\n      <td>None</td>\n      <td>🆒</td>\n      <td>648031342461714443</td>\n      <td>New record on flat water.. *53 m/s!*</td>\n      <td>118030843141685255</td>\n      <td>648031334576422922</td>\n      <td>hydrobird3.gif</td>\n      <td>8040415</td>\n      <td>None</td>\n    </tr>\n    <tr>\n      <th>132565</th>\n      <td>12</td>\n      <td>None</td>\n      <td>👍</td>\n      <td>648031342461714443</td>\n      <td>New record on flat water.. *53 m/s!*</td>\n      <td>118030843141685255</td>\n      <td>648031334576422922</td>\n      <td>hydrobird3.gif</td>\n      <td>8040415</td>\n      <td>None</td>\n    </tr>\n    <tr>\n      <th>132567</th>\n      <td>20</td>\n      <td>400283242185490442</td>\n      <td>thonk</td>\n      <td>648020606205558790</td>\n      <td></td>\n      <td>414416069617385472</td>\n      <td>648020598571794473</td>\n      <td>20191122000822_1.jpg</td>\n      <td>65422</td>\n      <td>None</td>\n    </tr>\n    <tr>\n      <th>132576</th>\n      <td>15</td>\n      <td>None</td>\n      <td>👍🏻</td>\n      <td>648010049674805248</td>\n      <td></td>\n      <td>382422533389156372</td>\n      <td>648010042456539156</td>\n      <td>Screenshot_44.png</td>\n      <td>1426596</td>\n      <td>None</td>\n    </tr>\n  </tbody>\n</table>\n<p>8199 rows × 10 columns</p>\n</div>",
      "text/plain": "        count            emoji.id emoji.name                  id  \\\n12         11                None          👍  846322726573572136   \n63         23                None          👍  846138766706999306   \n77         42                None         ❤️  846132354225012756   \n97         12                None          😱  846116868174643221   \n111        11                None          👍  846103113152987196   \n...       ...                 ...        ...                 ...   \n132533     15                None          😂  648111187510165505   \n132564     14                None          🆒  648031342461714443   \n132565     12                None          👍  648031342461714443   \n132567     20  400283242185490442      thonk  648020606205558790   \n132576     15                None         👍🏻  648010049674805248   \n\n                                                  content           author.id  \\\n12                                                         417710214897205249   \n63      had to build a new flight system, but it's sig...  204819021290405898   \n77                                                      🤩  265575561617735683   \n97      Man steals helicopter from local helicopter en...  290554978807054366   \n111                             by <@!509695438535000076>  413283162400227330   \n...                                                   ...                 ...   \n132533                                                     273001032982724608   \n132564               New record on flat water.. *53 m/s!*  118030843141685255   \n132565               New record on flat water.. *53 m/s!*  118030843141685255   \n132567                                                     414416069617385472   \n132576                                                     382422533389156372   \n\n            attachments.id                               attachments.filename  \\\n12      846322723780034580                               20210524114334_1.jpg   \n63      846138764526485565                               20210523124240_1.jpg   \n77      846132352098107473                                        unknown.png   \n97      846116865846673428                                        unknown.png   \n111     846103111030276116                                    ivN56AuK6j4.png   \n...                    ...                                                ...   \n132533  648111181273235466  Base_Profile_Screenshot_2019.11.24_-_13.40.27....   \n132564  648031334576422922                                     hydrobird3.gif   \n132565  648031334576422922                                     hydrobird3.gif   \n132567  648020598571794473                               20191122000822_1.jpg   \n132576  648010042456539156                                  Screenshot_44.png   \n\n        attachments.size attachments.content_type  \n12                138329               image/jpeg  \n63                242325               image/jpeg  \n77               1482779                image/png  \n97               2032048                image/png  \n111              1142091                image/png  \n...                  ...                      ...  \n132533           1267161                     None  \n132564           8040415                     None  \n132565           8040415                     None  \n132567             65422                     None  \n132576           1426596                     None  \n\n[8199 rows x 10 columns]"
     },
     "execution_count": 55,
     "metadata": {},
     "output_type": "execute_result"
    }
   ],
   "source": [
    "df1.loc[df1['id']]"
   ]
  },
  {
   "cell_type": "code",
   "execution_count": 56,
   "metadata": {},
   "outputs": [
    {
     "data": {
      "text/plain": "{'👍': 5361,\n 'thonk': 732,\n '👌': 709,\n '❤️': 347,\n '💯': 175,\n '🆒': 144,\n '🔥': 131,\n '😂': 116,\n '😮': 97,\n '🤣': 87,\n '🤯': 69,\n 'doge': 54,\n '😱': 45,\n '💥': 44,\n '👍🏻': 35,\n '🤩': 23,\n '🧠': 20,\n '💕': 10}"
     },
     "execution_count": 56,
     "metadata": {},
     "output_type": "execute_result"
    }
   ],
   "source": [
    "dict(df1['emoji.name'].value_counts())"
   ]
  },
  {
   "cell_type": "code",
   "execution_count": 57,
   "metadata": {},
   "outputs": [
    {
     "data": {
      "text/html": "<div>\n<style scoped>\n    .dataframe tbody tr th:only-of-type {\n        vertical-align: middle;\n    }\n\n    .dataframe tbody tr th {\n        vertical-align: top;\n    }\n\n    .dataframe thead th {\n        text-align: right;\n    }\n</style>\n<table border=\"1\" class=\"dataframe\">\n  <thead>\n    <tr style=\"text-align: right;\">\n      <th></th>\n      <th>count</th>\n      <th>emoji.id</th>\n      <th>emoji.name</th>\n      <th>id</th>\n      <th>content</th>\n      <th>author.id</th>\n      <th>attachments.id</th>\n      <th>attachments.filename</th>\n      <th>attachments.size</th>\n      <th>attachments.content_type</th>\n    </tr>\n  </thead>\n  <tbody>\n    <tr>\n      <th>132471</th>\n      <td>11</td>\n      <td>None</td>\n      <td>👍</td>\n      <td>648172265648947200</td>\n      <td>🔫</td>\n      <td>246695388944269312</td>\n      <td>648172259420143616</td>\n      <td>0lcxcYC2tkx6.png</td>\n      <td>511520</td>\n      <td>None</td>\n    </tr>\n    <tr>\n      <th>132491</th>\n      <td>13</td>\n      <td>None</td>\n      <td>👍</td>\n      <td>648141183167758367</td>\n      <td>👀</td>\n      <td>402159550939004928</td>\n      <td>648141175890378764</td>\n      <td>Bildschirmfoto_2019-11-24_um_13.37.37.png</td>\n      <td>2109594</td>\n      <td>None</td>\n    </tr>\n    <tr>\n      <th>132500</th>\n      <td>25</td>\n      <td>None</td>\n      <td>👍</td>\n      <td>648126079554289694</td>\n      <td>Speaking of roof windows.</td>\n      <td>295555944199356418</td>\n      <td>648126078719754243</td>\n      <td>20191124123907_1.jpg</td>\n      <td>399696</td>\n      <td>None</td>\n    </tr>\n    <tr>\n      <th>132531</th>\n      <td>12</td>\n      <td>None</td>\n      <td>👍</td>\n      <td>648111188177059840</td>\n      <td></td>\n      <td>295555944199356418</td>\n      <td>648111187397050369</td>\n      <td>20191124114222_1.jpg</td>\n      <td>295728</td>\n      <td>None</td>\n    </tr>\n    <tr>\n      <th>132565</th>\n      <td>12</td>\n      <td>None</td>\n      <td>👍</td>\n      <td>648031342461714443</td>\n      <td>New record on flat water.. *53 m/s!*</td>\n      <td>118030843141685255</td>\n      <td>648031334576422922</td>\n      <td>hydrobird3.gif</td>\n      <td>8040415</td>\n      <td>None</td>\n    </tr>\n  </tbody>\n</table>\n</div>",
      "text/plain": "        count emoji.id emoji.name                  id  \\\n132471     11     None          👍  648172265648947200   \n132491     13     None          👍  648141183167758367   \n132500     25     None          👍  648126079554289694   \n132531     12     None          👍  648111188177059840   \n132565     12     None          👍  648031342461714443   \n\n                                     content           author.id  \\\n132471                                     🔫  246695388944269312   \n132491                                     👀  402159550939004928   \n132500             Speaking of roof windows.  295555944199356418   \n132531                                        295555944199356418   \n132565  New record on flat water.. *53 m/s!*  118030843141685255   \n\n            attachments.id                       attachments.filename  \\\n132471  648172259420143616                           0lcxcYC2tkx6.png   \n132491  648141175890378764  Bildschirmfoto_2019-11-24_um_13.37.37.png   \n132500  648126078719754243                       20191124123907_1.jpg   \n132531  648111187397050369                       20191124114222_1.jpg   \n132565  648031334576422922                             hydrobird3.gif   \n\n        attachments.size attachments.content_type  \n132471            511520                     None  \n132491           2109594                     None  \n132500            399696                     None  \n132531            295728                     None  \n132565           8040415                     None  "
     },
     "execution_count": 57,
     "metadata": {},
     "output_type": "execute_result"
    }
   ],
   "source": [
    "df1.loc[df1['emoji.name']=='👍'].tail()"
   ]
  }
 ],
 "metadata": {
  "interpreter": {
   "hash": "efce3fc780a92caeb3483b20097c64fd43c4fd00c8b3b2f78748cf8810f74f12"
  },
  "kernelspec": {
   "display_name": "Python 3.9.1 64-bit",
   "name": "python3"
  },
  "language_info": {
   "name": "python",
   "version": ""
  },
  "orig_nbformat": 2
 },
 "nbformat": 4,
 "nbformat_minor": 2
}